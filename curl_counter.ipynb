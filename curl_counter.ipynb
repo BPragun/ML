{
 "cells": [
  {
   "cell_type": "code",
   "execution_count": 16,
   "metadata": {},
   "outputs": [],
   "source": [
    "import mediapipe as mp\n",
    "import cv2\n",
    "import numpy as np"
   ]
  },
  {
   "cell_type": "code",
   "execution_count": 17,
   "metadata": {},
   "outputs": [],
   "source": [
    "mp_drawing=mp.solutions.drawing_utils\n",
    "mp_pose=mp.solutions.pose"
   ]
  },
  {
   "cell_type": "code",
   "execution_count": 18,
   "metadata": {},
   "outputs": [],
   "source": [
    "def calculate_angle(a,b,c):\n",
    "    a=np.array(a)\n",
    "    b=np.array(b)\n",
    "    c=np.array(c)\n",
    "    radians=np.arctan2(c[1]-b[1],c[0]-b[0])-np.arctan2(a[1]-b[1],a[0]-b[0])\n",
    "    angle=np.abs(radians*180.0/np.pi)\n",
    "    if angle>180.0:\n",
    "        angle=360-angle\n",
    "    return angle\n",
    "    "
   ]
  },
  {
   "cell_type": "code",
   "execution_count": 19,
   "metadata": {},
   "outputs": [],
   "source": [
    "cap=cv2.VideoCapture(0)\n",
    "counter=0\n",
    "stage=None\n",
    "cap=cv2.VideoCapture(0)\n",
    "with mp_pose.Pose(min_detection_confidence=0.5,min_tracking_confidence=0.5) as pose:\n",
    "    while True:\n",
    "        res,frame=cap.read()\n",
    "        image=cv2.cvtColor(frame,cv2.COLOR_BGR2RGB)\n",
    "        results=pose.process(image)\n",
    "        image=cv2.cvtColor(image,cv2.COLOR_RGB2BGR)\n",
    "        try:\n",
    "            landmarks=results.pose_landmarks.landmark\n",
    "            shoulder=[landmarks[mp_pose.PoseLandmark.LEFT_SHOULDER.value].x,landmarks[mp_pose.PoseLandmark.LEFT_SHOULDER.value].y]\n",
    "            elbow=[landmarks[mp_pose.PoseLandmark.LEFT_ELBOW.value].x,landmarks[mp_pose.PoseLandmark.LEFT_ELBOW.value].y]\n",
    "            wrist=[landmarks[mp_pose.PoseLandmark.LEFT_WRIST.value].x,landmarks[mp_pose.PoseLandmark.LEFT_WRIST.value].y]\n",
    "            #calculate angle\n",
    "            angle=calculate_angle(shoulder,elbow,wrist)\n",
    "            #visualize angle\n",
    "            cv2.putText(image,str(angle),tuple(np.multiply(elbow,[640,480]).astype(int)),cv2.FONT_HERSHEY_SIMPLEX,0.5,(255,255,255),2,cv2.LINE_AA)\n",
    "            #curl counter logic \n",
    "            if  angle > 160:\n",
    "              stage=\"down\"\n",
    "            elif angle < 30 and stage==\"down\":\n",
    "              stage=\"up\"\n",
    "              counter=counter+1\n",
    "        except:\n",
    "            pass\n",
    "        #render curl counter\n",
    "        cv2.rectangle(image,(0,0),(100,100),(0,0,0),-1)\n",
    "        cv2.putText(image,\"CURL\", (22,22),cv2.FONT_HERSHEY_SIMPLEX,0.5,(255,255,255),1,cv2.LINE_AA)\n",
    "        cv2.putText(image,str(counter),(10,80),cv2.FONT_HERSHEY_SIMPLEX,2,(255,255,255),2,cv2.LINE_AA)\n",
    "        mp_drawing.draw_landmarks(image,results.pose_landmarks,mp_pose.POSE_CONNECTIONS,\n",
    "                           mp_drawing.DrawingSpec(color=(233,22,10),thickness=2,circle_radius=2),mp_drawing.DrawingSpec(color=(22,100,222),thickness=2,circle_radius=2))\n",
    "        cv2.imshow(\"Exercise\",image)\n",
    "        if cv2.waitKey(10) & 0xFF==ord(\"q\"):\n",
    "          break\n",
    "    cap.release()\n",
    "    cv2.destroyAllWindows()\n"
   ]
  }
 ],
 "metadata": {
  "kernelspec": {
   "display_name": "myenv",
   "language": "python",
   "name": "python3"
  },
  "language_info": {
   "codemirror_mode": {
    "name": "ipython",
    "version": 3
   },
   "file_extension": ".py",
   "mimetype": "text/x-python",
   "name": "python",
   "nbconvert_exporter": "python",
   "pygments_lexer": "ipython3",
   "version": "3.12.3"
  }
 },
 "nbformat": 4,
 "nbformat_minor": 2
}
