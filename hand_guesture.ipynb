{
 "cells": [
  {
   "cell_type": "code",
   "execution_count": 37,
   "metadata": {},
   "outputs": [],
   "source": [
    "\n",
    "import mediapipe as mp\n",
    "import cv2\n",
    "import numpy as np"
   ]
  },
  {
   "cell_type": "code",
   "execution_count": 38,
   "metadata": {},
   "outputs": [],
   "source": [
    "mp_drawing=mp.solutions.drawing_utils\n",
    "mphands=mp.solutions.hands\n",
    "mp_drawing_styles=mp.solutions.drawing_styles\n"
   ]
  },
  {
   "cell_type": "code",
   "execution_count": 39,
   "metadata": {},
   "outputs": [],
   "source": [
    "def calculate_angle(a, b, c):\n",
    "    a = np.array(a)  \n",
    "    b = np.array(b)  \n",
    "    c = np.array(c)  \n",
    "\n",
    "    ba = a - b\n",
    "    bc = c - b\n",
    "\n",
    "    cosine_angle = np.dot(ba, bc) / (np.linalg.norm(ba) * np.linalg.norm(bc))\n",
    "    radians = np.arccos(cosine_angle)\n",
    "    angle=np.abs(radians*180.0/np.pi)\n",
    "\n",
    "    return angle"
   ]
  },
  {
   "cell_type": "code",
   "execution_count": 40,
   "metadata": {},
   "outputs": [],
   "source": [
    "def check_number(angle_thumb,angle_pinky,angle_ring,angle_index,angle_middle):\n",
    "    if angle_index>150 and angle_middle<70 and angle_ring<70 and angle_pinky<70 :\n",
    "        return 1\n",
    "    elif angle_index>150 and angle_middle>150 and angle_ring<70 and angle_pinky<70:\n",
    "        return 2\n",
    "    elif (angle_index>150 and angle_middle>150 and angle_ring>150 and angle_pinky<70) or (angle_middle>150 and angle_ring>150 and angle_pinky>150 and angle_index<70):\n",
    "        return 3\n",
    "    elif angle_thumb<145 and angle_pinky>150 and angle_ring>150 and angle_index>150 and angle_middle>150:\n",
    "        return 4\n",
    "    elif angle_thumb>150 and angle_pinky>150 and angle_ring>150 and angle_index>150 and angle_middle>150:\n",
    "        return 5\n",
    "    else:\n",
    "        return 0"
   ]
  },
  {
   "cell_type": "code",
   "execution_count": 41,
   "metadata": {},
   "outputs": [],
   "source": [
    "cap=cv2.VideoCapture(0)\n",
    "hands=mphands.Hands()\n",
    "hand_landmarks=[]\n",
    "while True:\n",
    "      res,frame=cap.read()\n",
    "      image=cv2.cvtColor(cv2.flip(frame,1),cv2.COLOR_BGR2RGB)\n",
    "      results=hands.process(image)\n",
    "      image=cv2.cvtColor(image,cv2.COLOR_RGB2BGR)\n",
    "      if results.multi_hand_landmarks:\n",
    "        for hand_landmarks in results.multi_hand_landmarks:\n",
    "            mp_drawing.draw_landmarks(image,hand_landmarks,mphands.HAND_CONNECTIONS,mp_drawing_styles.get_default_hand_landmarks_style(),mp_drawing_styles.get_default_hand_connections_style())\n",
    "            index1=[hand_landmarks.landmark[mphands.HandLandmark.INDEX_FINGER_MCP].x,hand_landmarks.landmark[mphands.HandLandmark.INDEX_FINGER_MCP].y]\n",
    "            index2=[hand_landmarks.landmark[mphands.HandLandmark.INDEX_FINGER_PIP].x,hand_landmarks.landmark[mphands.HandLandmark.INDEX_FINGER_PIP].y]\n",
    "            index3=[hand_landmarks.landmark[mphands.HandLandmark.INDEX_FINGER_TIP].x,hand_landmarks.landmark[mphands.HandLandmark.INDEX_FINGER_TIP].y]\n",
    "            middle1=[hand_landmarks.landmark[mphands.HandLandmark.MIDDLE_FINGER_MCP].x,hand_landmarks.landmark[mphands.HandLandmark.MIDDLE_FINGER_MCP].y]\n",
    "            middle2=[hand_landmarks.landmark[mphands.HandLandmark.MIDDLE_FINGER_PIP].x,hand_landmarks.landmark[mphands.HandLandmark.MIDDLE_FINGER_PIP].y]\n",
    "            middle3=[hand_landmarks.landmark[mphands.HandLandmark.MIDDLE_FINGER_TIP].x,hand_landmarks.landmark[mphands.HandLandmark.MIDDLE_FINGER_TIP].y]\n",
    "            ring1=[hand_landmarks.landmark[mphands.HandLandmark.RING_FINGER_MCP].x,hand_landmarks.landmark[mphands.HandLandmark.RING_FINGER_MCP].y]\n",
    "            ring2=[hand_landmarks.landmark[mphands.HandLandmark.RING_FINGER_PIP].x,hand_landmarks.landmark[mphands.HandLandmark.RING_FINGER_PIP].y]\n",
    "            ring3=[hand_landmarks.landmark[mphands.HandLandmark.RING_FINGER_TIP].x,hand_landmarks.landmark[mphands.HandLandmark.RING_FINGER_TIP].y]\n",
    "            pinky1=[hand_landmarks.landmark[mphands.HandLandmark.PINKY_MCP].x,hand_landmarks.landmark[mphands.HandLandmark.PINKY_MCP].y]\n",
    "            pinky2=[hand_landmarks.landmark[mphands.HandLandmark.PINKY_PIP].x,hand_landmarks.landmark[mphands.HandLandmark.PINKY_PIP].y]\n",
    "            pinky3=[hand_landmarks.landmark[mphands.HandLandmark.PINKY_TIP].x,hand_landmarks.landmark[mphands.HandLandmark.PINKY_TIP].y]\n",
    "            thumb1=[hand_landmarks.landmark[mphands.HandLandmark.THUMB_TIP].x,hand_landmarks.landmark[mphands.HandLandmark.THUMB_TIP].y]\n",
    "            thumb3=[hand_landmarks.landmark[mphands.HandLandmark.THUMB_MCP].x,hand_landmarks.landmark[mphands.HandLandmark.THUMB_MCP].y]\n",
    "            thumb2=[hand_landmarks.landmark[mphands.HandLandmark.THUMB_IP].x,hand_landmarks.landmark[mphands.HandLandmark.THUMB_IP].y]\n",
    "            angle_thumb=calculate_angle(thumb1,thumb2,thumb3)\n",
    "            angle_pinky=calculate_angle(pinky1,pinky2,pinky3)\n",
    "            angle_ring=calculate_angle(ring1,ring2,ring3)\n",
    "            angle_index=calculate_angle(index1,index2,index3)\n",
    "            angle_middle=calculate_angle(middle1,middle2,middle3)\n",
    "            value=check_number(angle_thumb,angle_pinky,angle_ring,angle_index,angle_middle)\n",
    "      cv2.imshow(\"Hand Detections\",image)   \n",
    "      \n",
    "      if cv2.waitKey(1) & 0xFF==ord(\"q\"):\n",
    "          break\n",
    "cap.release()\n",
    "cv2.destroyAllWindows()\n"
   ]
  },
  {
   "cell_type": "code",
   "execution_count": 42,
   "metadata": {},
   "outputs": [
    {
     "name": "stdout",
     "output_type": "stream",
     "text": [
      "1\n"
     ]
    }
   ],
   "source": [
    "print(value)"
   ]
  },
  {
   "cell_type": "code",
   "execution_count": null,
   "metadata": {},
   "outputs": [],
   "source": []
  }
 ],
 "metadata": {
  "kernelspec": {
   "display_name": "myenv",
   "language": "python",
   "name": "python3"
  },
  "language_info": {
   "codemirror_mode": {
    "name": "ipython",
    "version": 3
   },
   "file_extension": ".py",
   "mimetype": "text/x-python",
   "name": "python",
   "nbconvert_exporter": "python",
   "pygments_lexer": "ipython3",
   "version": "3.12.3"
  }
 },
 "nbformat": 4,
 "nbformat_minor": 2
}
